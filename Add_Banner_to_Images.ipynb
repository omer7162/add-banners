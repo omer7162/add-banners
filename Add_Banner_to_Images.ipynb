{
  "nbformat": 4,
  "nbformat_minor": 0,
  "metadata": {
    "colab": {
      "provenance": []
    },
    "kernelspec": {
      "name": "python3",
      "display_name": "Python 3"
    },
    "language_info": {
      "name": "python"
    }
  },
  "cells": [
    {
      "cell_type": "code",
      "source": [
        "# Example input.txt for testing\n",
        "example_input_txt = \"\"\"\n",
        "1.png: Click on input to go to the next step of the automation\n",
        "2.png: Click on menu\n",
        "3.png: Click here to start\n",
        "1-Click.png: Click again to confirm\n",
        "\"\"\"\n",
        "with open('input.txt', 'w') as f:\n",
        "    f.write(example_input_txt)"
      ],
      "metadata": {
        "id": "M2U_oM98WPy1"
      },
      "execution_count": 16,
      "outputs": []
    },
    {
      "cell_type": "code",
      "source": [
        "!pip install pillow\n"
      ],
      "metadata": {
        "colab": {
          "base_uri": "https://localhost:8080/"
        },
        "id": "RGYCziTdWjhL",
        "outputId": "fb2d4b76-869c-4390-b04d-d136b0044184"
      },
      "execution_count": 3,
      "outputs": [
        {
          "output_type": "stream",
          "name": "stdout",
          "text": [
            "Requirement already satisfied: pillow in /usr/local/lib/python3.10/dist-packages (9.4.0)\n"
          ]
        }
      ]
    },
    {
      "cell_type": "code",
      "execution_count": 23,
      "metadata": {
        "colab": {
          "base_uri": "https://localhost:8080/"
        },
        "id": "y-06vm3gWBcv",
        "outputId": "bb136b02-f682-4f1d-d4e1-3708c778f34f"
      },
      "outputs": [
        {
          "output_type": "stream",
          "name": "stderr",
          "text": [
            "<ipython-input-23-4501f8b0f4bf>:56: DeprecationWarning: textsize is deprecated and will be removed in Pillow 10 (2023-07-01). Use textbbox or textlength instead.\n",
            "  max_text_width = max(draw.textsize(line, font=font)[0] for line in lines)\n",
            "<ipython-input-23-4501f8b0f4bf>:56: DeprecationWarning: textsize is deprecated and will be removed in Pillow 10 (2023-07-01). Use textbbox or textlength instead.\n",
            "  max_text_width = max(draw.textsize(line, font=font)[0] for line in lines)\n",
            "<ipython-input-23-4501f8b0f4bf>:60: DeprecationWarning: textsize is deprecated and will be removed in Pillow 10 (2023-07-01). Use textbbox or textlength instead.\n",
            "  total_text_height = sum(draw.textsize(line, font=font)[1] for line in lines)\n",
            "<ipython-input-23-4501f8b0f4bf>:60: DeprecationWarning: textsize is deprecated and will be removed in Pillow 10 (2023-07-01). Use textbbox or textlength instead.\n",
            "  total_text_height = sum(draw.textsize(line, font=font)[1] for line in lines)\n",
            "<ipython-input-23-4501f8b0f4bf>:74: DeprecationWarning: textsize is deprecated and will be removed in Pillow 10 (2023-07-01). Use textbbox or textlength instead.\n",
            "  y_text += draw.textsize(line, font=font)[1]\n",
            "<ipython-input-23-4501f8b0f4bf>:74: DeprecationWarning: textsize is deprecated and will be removed in Pillow 10 (2023-07-01). Use textbbox or textlength instead.\n",
            "  y_text += draw.textsize(line, font=font)[1]\n",
            "<ipython-input-23-4501f8b0f4bf>:56: DeprecationWarning: textsize is deprecated and will be removed in Pillow 10 (2023-07-01). Use textbbox or textlength instead.\n",
            "  max_text_width = max(draw.textsize(line, font=font)[0] for line in lines)\n",
            "<ipython-input-23-4501f8b0f4bf>:56: DeprecationWarning: textsize is deprecated and will be removed in Pillow 10 (2023-07-01). Use textbbox or textlength instead.\n",
            "  max_text_width = max(draw.textsize(line, font=font)[0] for line in lines)\n",
            "<ipython-input-23-4501f8b0f4bf>:56: DeprecationWarning: textsize is deprecated and will be removed in Pillow 10 (2023-07-01). Use textbbox or textlength instead.\n",
            "  max_text_width = max(draw.textsize(line, font=font)[0] for line in lines)\n",
            "<ipython-input-23-4501f8b0f4bf>:60: DeprecationWarning: textsize is deprecated and will be removed in Pillow 10 (2023-07-01). Use textbbox or textlength instead.\n",
            "  total_text_height = sum(draw.textsize(line, font=font)[1] for line in lines)\n",
            "<ipython-input-23-4501f8b0f4bf>:60: DeprecationWarning: textsize is deprecated and will be removed in Pillow 10 (2023-07-01). Use textbbox or textlength instead.\n",
            "  total_text_height = sum(draw.textsize(line, font=font)[1] for line in lines)\n",
            "<ipython-input-23-4501f8b0f4bf>:60: DeprecationWarning: textsize is deprecated and will be removed in Pillow 10 (2023-07-01). Use textbbox or textlength instead.\n",
            "  total_text_height = sum(draw.textsize(line, font=font)[1] for line in lines)\n",
            "<ipython-input-23-4501f8b0f4bf>:74: DeprecationWarning: textsize is deprecated and will be removed in Pillow 10 (2023-07-01). Use textbbox or textlength instead.\n",
            "  y_text += draw.textsize(line, font=font)[1]\n",
            "<ipython-input-23-4501f8b0f4bf>:74: DeprecationWarning: textsize is deprecated and will be removed in Pillow 10 (2023-07-01). Use textbbox or textlength instead.\n",
            "  y_text += draw.textsize(line, font=font)[1]\n",
            "<ipython-input-23-4501f8b0f4bf>:74: DeprecationWarning: textsize is deprecated and will be removed in Pillow 10 (2023-07-01). Use textbbox or textlength instead.\n",
            "  y_text += draw.textsize(line, font=font)[1]\n"
          ]
        },
        {
          "output_type": "stream",
          "name": "stdout",
          "text": [
            "Processing complete. Files are saved in output.zip\n"
          ]
        },
        {
          "output_type": "stream",
          "name": "stderr",
          "text": [
            "<ipython-input-23-4501f8b0f4bf>:56: DeprecationWarning: textsize is deprecated and will be removed in Pillow 10 (2023-07-01). Use textbbox or textlength instead.\n",
            "  max_text_width = max(draw.textsize(line, font=font)[0] for line in lines)\n",
            "<ipython-input-23-4501f8b0f4bf>:60: DeprecationWarning: textsize is deprecated and will be removed in Pillow 10 (2023-07-01). Use textbbox or textlength instead.\n",
            "  total_text_height = sum(draw.textsize(line, font=font)[1] for line in lines)\n",
            "<ipython-input-23-4501f8b0f4bf>:74: DeprecationWarning: textsize is deprecated and will be removed in Pillow 10 (2023-07-01). Use textbbox or textlength instead.\n",
            "  y_text += draw.textsize(line, font=font)[1]\n",
            "<ipython-input-23-4501f8b0f4bf>:56: DeprecationWarning: textsize is deprecated and will be removed in Pillow 10 (2023-07-01). Use textbbox or textlength instead.\n",
            "  max_text_width = max(draw.textsize(line, font=font)[0] for line in lines)\n",
            "<ipython-input-23-4501f8b0f4bf>:60: DeprecationWarning: textsize is deprecated and will be removed in Pillow 10 (2023-07-01). Use textbbox or textlength instead.\n",
            "  total_text_height = sum(draw.textsize(line, font=font)[1] for line in lines)\n",
            "<ipython-input-23-4501f8b0f4bf>:74: DeprecationWarning: textsize is deprecated and will be removed in Pillow 10 (2023-07-01). Use textbbox or textlength instead.\n",
            "  y_text += draw.textsize(line, font=font)[1]\n"
          ]
        }
      ],
      "source": [
        "import zipfile\n",
        "import os\n",
        "from PIL import Image, ImageDraw, ImageFont\n",
        "\n",
        "def draw_rounded_rectangle(draw, rectangle, radius, fill):\n",
        "    \"\"\"Draws a rounded rectangle with a specified border radius and fill color.\"\"\"\n",
        "    upper_left, lower_right = rectangle[:2], rectangle[2:]\n",
        "    draw.rectangle([upper_left[0], upper_left[1] + radius, lower_right[0], lower_right[1] - radius], fill=fill)\n",
        "    draw.rectangle([upper_left[0] + radius, upper_left[1], lower_right[0] - radius, lower_right[1]], fill=fill)\n",
        "    draw.pieslice([upper_left[0], upper_left[1], upper_left[0] + radius * 2, upper_left[1] + radius * 2], 180, 270, fill=fill)\n",
        "    draw.pieslice([lower_right[0] - radius * 2, upper_left[1], lower_right[0], upper_left[1] + radius * 2], 270, 360, fill=fill)\n",
        "    draw.pieslice([upper_left[0], lower_right[1] - radius * 2, upper_left[0] + radius * 2, lower_right[1]], 90, 180, fill=fill)\n",
        "    draw.pieslice([lower_right[0] - radius * 2, lower_right[1] - radius * 2, lower_right[0], lower_right[1]], 0, 90, fill=fill)\n",
        "\n",
        "def wrap_text(text, line_length):\n",
        "    \"\"\"Wrap text smartly without splitting words and within a certain line length.\"\"\"\n",
        "    words = text.split()\n",
        "    lines, current_line = [], ''\n",
        "    for word in words:\n",
        "        test_line = f\"{current_line} {word}\".strip()\n",
        "        if len(test_line) <= line_length:\n",
        "            current_line = test_line\n",
        "        else:\n",
        "            lines.append(current_line)\n",
        "            current_line = word\n",
        "    if current_line:\n",
        "        lines.append(current_line)\n",
        "    return lines\n",
        "\n",
        "# Extract the input.zip\n",
        "with zipfile.ZipFile('input.zip', 'r') as zip_ref:\n",
        "    zip_ref.extractall('input')\n",
        "\n",
        "# Read the input text file\n",
        "annotations = {}\n",
        "with open('input.txt', 'r') as file:\n",
        "    for line in file:\n",
        "        if line.strip():\n",
        "            filename, text = line.split(':', 1)\n",
        "            annotations[filename.strip()] = text.strip()\n",
        "\n",
        "# Process images and add banners\n",
        "for image_name in os.listdir('input'):\n",
        "    if image_name.endswith('.png') and image_name in annotations:\n",
        "        text = annotations[image_name]\n",
        "        if text:\n",
        "            image_path = os.path.join('input', image_name)\n",
        "            image = Image.open(image_path)\n",
        "            draw = ImageDraw.Draw(image)\n",
        "            width, height = image.size\n",
        "\n",
        "            lines = wrap_text(text, 20)\n",
        "            font_size = min(30, (height // 8) // max(1, len(lines)))\n",
        "            font = ImageFont.truetype(\"./DejaVuSans-Bold.ttf\", font_size)\n",
        "\n",
        "            max_text_width = max(draw.textsize(line, font=font)[0] for line in lines)\n",
        "            max_text_width += 20  # Adding extra width to the text\n",
        "\n",
        "            # Calculate total text height\n",
        "            total_text_height = sum(draw.textsize(line, font=font)[1] for line in lines)\n",
        "\n",
        "            # Adjust banner height based on text\n",
        "            banner_height = max(height // 8, total_text_height + 20)\n",
        "            rectangle = [0, height - banner_height, max_text_width, height]\n",
        "\n",
        "            # Draw a rounded rectangle\n",
        "            draw_rounded_rectangle(draw, rectangle, 20, fill=\"#283870\")\n",
        "\n",
        "            # Add text\n",
        "            y_text = height - banner_height + (banner_height - total_text_height) // 2\n",
        "            for line in lines:\n",
        "                text_position = (10, y_text)\n",
        "                draw.text(text_position, line, fill=\"white\", font=font)\n",
        "                y_text += draw.textsize(line, font=font)[1]\n",
        "\n",
        "            # Save the image\n",
        "            image.save(image_path)\n",
        "\n",
        "# Zip all processed images into output.zip\n",
        "with zipfile.ZipFile('output.zip', 'w') as zipf:\n",
        "    for foldername, subfolders, filenames in os.walk('input'):\n",
        "        for filename in filenames:\n",
        "            if filename.endswith('.png'):\n",
        "                file_path = os.path.join(foldername, filename)\n",
        "                zipf.write(file_path, os.path.relpath(file_path, 'input'))\n",
        "\n",
        "print(\"Processing complete. Files are saved in output.zip\")\n"
      ]
    }
  ]
}